{
 "cells": [
  {
   "cell_type": "markdown",
   "metadata": {
    "pycharm": {
     "name": "#%% md\n"
    }
   },
   "source": [
    "# Deep Learning - Project 2\n",
    "**Nina Żukowska 148278**\n",
    "**Antoni Solarski 148270**"
   ]
  },
  {
   "cell_type": "code",
   "execution_count": 1,
   "outputs": [],
   "source": [
    "from sklearn.dummy import DummyClassifier\n",
    "from sklearn.metrics import classification_report\n",
    "from sklearn.model_selection import train_test_split\n",
    "\n",
    "from utils import *"
   ],
   "metadata": {
    "collapsed": false,
    "pycharm": {
     "name": "#%%\n"
    }
   }
  },
  {
   "cell_type": "markdown",
   "source": [
    "# PART 2"
   ],
   "metadata": {
    "collapsed": false,
    "pycharm": {
     "name": "#%% md\n"
    }
   }
  },
  {
   "cell_type": "markdown",
   "source": [
    "---\n",
    "#### 12) Training for unbalanced datasets"
   ],
   "metadata": {
    "collapsed": false,
    "pycharm": {
     "name": "#%% md\n"
    }
   }
  },
  {
   "cell_type": "code",
   "execution_count": 2,
   "outputs": [
    {
     "data": {
      "text/plain": "((589, 200, 300, 3), (253, 200, 300, 3), (589, 2), (253, 2))"
     },
     "execution_count": 2,
     "metadata": {},
     "output_type": "execute_result"
    }
   ],
   "source": [
    "random.seed(23)\n",
    "\n",
    "# download and preprocess data\n",
    "download_data_if_not_exists()\n",
    "# choose classes - airplanes (800 examples) and ibis (42 examples)\n",
    "CLASSES = [\"airplanes\", \"ant\"]\n",
    "IMAGES, LABELS = load_data(DATA_DIR, CLASSES)\n",
    "X, MEAN, STD = standardize_images(resize_images(IMAGES))\n",
    "y, labels_enc, labels_ohe = one_hot_encoding_for_labels(LABELS)\n",
    "X_train, X_test, y_train, y_test = train_test_split(X, y, train_size=0.7, stratify=y, random_state=23)\n",
    "X_train.shape, X_test.shape, y_train.shape, y_test.shape"
   ],
   "metadata": {
    "collapsed": false,
    "pycharm": {
     "name": "#%%\n"
    }
   }
  },
  {
   "cell_type": "code",
   "execution_count": 3,
   "outputs": [
    {
     "name": "stdout",
     "output_type": "stream",
     "text": [
      "{'airplanes': 560, 'ant': 29}\n",
      "{'airplanes': 240, 'ant': 13}\n"
     ]
    }
   ],
   "source": [
    "# check is train-test split is stratified\n",
    "count_samples_in_class(y_train, labels_enc, labels_ohe)\n",
    "count_samples_in_class(y_test, labels_enc, labels_ohe)"
   ],
   "metadata": {
    "collapsed": false,
    "pycharm": {
     "name": "#%%\n"
    }
   }
  },
  {
   "cell_type": "code",
   "execution_count": 4,
   "outputs": [],
   "source": [
    "# get true labels\n",
    "y_test_true_labels = get_labels(labels_ohe.inverse_transform(y_test).reshape((1, -1))[0], labels_enc)"
   ],
   "metadata": {
    "collapsed": false,
    "pycharm": {
     "name": "#%%\n"
    }
   }
  },
  {
   "cell_type": "markdown",
   "source": [
    "##### Dummy model"
   ],
   "metadata": {
    "collapsed": false,
    "pycharm": {
     "name": "#%% md\n"
    }
   }
  },
  {
   "cell_type": "code",
   "execution_count": 5,
   "outputs": [],
   "source": [
    "# get dummy model which assign input to majority class\n",
    "dummy_model = DummyClassifier()\n",
    "dummy_model.fit(X_train, y_train)\n",
    "\n",
    "dummy_predictions = get_labels(convert_predictions(dummy_model.predict(X_test)), labels_enc)"
   ],
   "metadata": {
    "collapsed": false,
    "pycharm": {
     "name": "#%%\n"
    }
   }
  },
  {
   "cell_type": "code",
   "execution_count": 6,
   "outputs": [
    {
     "name": "stdout",
     "output_type": "stream",
     "text": [
      "              precision    recall  f1-score   support\n",
      "\n",
      "   airplanes       0.95      1.00      0.97       240\n",
      "         ant       0.00      0.00      0.00        13\n",
      "\n",
      "    accuracy                           0.95       253\n",
      "   macro avg       0.47      0.50      0.49       253\n",
      "weighted avg       0.90      0.95      0.92       253\n",
      "\n"
     ]
    }
   ],
   "source": [
    "# get statistics for dummy model\n",
    "print(classification_report(y_test_true_labels, dummy_predictions, zero_division=0))"
   ],
   "metadata": {
    "collapsed": false,
    "pycharm": {
     "name": "#%%\n"
    }
   }
  },
  {
   "cell_type": "markdown",
   "source": [
    "##### \"Part 1\" model"
   ],
   "metadata": {
    "collapsed": false,
    "pycharm": {
     "name": "#%% md\n"
    }
   }
  },
  {
   "cell_type": "code",
   "execution_count": 7,
   "outputs": [],
   "source": [
    "# get \"part 1\" model\n",
    "standard_model = get_model(len(CLASSES))"
   ],
   "metadata": {
    "collapsed": false,
    "pycharm": {
     "name": "#%%\n"
    }
   }
  },
  {
   "cell_type": "code",
   "execution_count": 8,
   "outputs": [
    {
     "name": "stdout",
     "output_type": "stream",
     "text": [
      "Epoch 1/100\n",
      "19/19 [==============================] - 28s 1s/step - loss: 0.3549 - accuracy: 0.9134 - val_loss: 0.2648 - val_accuracy: 0.9486\n",
      "Epoch 2/100\n",
      "19/19 [==============================] - 28s 1s/step - loss: 0.2561 - accuracy: 0.9440 - val_loss: 0.1647 - val_accuracy: 0.9486\n",
      "Epoch 3/100\n",
      "19/19 [==============================] - 27s 1s/step - loss: 0.2077 - accuracy: 0.9491 - val_loss: 0.1411 - val_accuracy: 0.9486\n",
      "Epoch 4/100\n",
      "19/19 [==============================] - 26s 1s/step - loss: 0.1606 - accuracy: 0.9508 - val_loss: 0.1899 - val_accuracy: 0.9486\n",
      "Epoch 5/100\n",
      "19/19 [==============================] - 26s 1s/step - loss: 0.1403 - accuracy: 0.9491 - val_loss: 0.1178 - val_accuracy: 0.9486\n",
      "Epoch 6/100\n",
      "19/19 [==============================] - 29s 2s/step - loss: 0.1310 - accuracy: 0.9491 - val_loss: 0.0996 - val_accuracy: 0.9486\n"
     ]
    }
   ],
   "source": [
    "# train model\n",
    "standard_model_history = train_model(standard_model, X_train, y_train, X_test, y_test, 100, 32)"
   ],
   "metadata": {
    "collapsed": false,
    "pycharm": {
     "name": "#%%\n"
    }
   }
  },
  {
   "cell_type": "code",
   "execution_count": 9,
   "outputs": [
    {
     "name": "stdout",
     "output_type": "stream",
     "text": [
      "8/8 [==============================] - 2s 267ms/step - loss: 0.2648 - accuracy: 0.9486\n"
     ]
    }
   ],
   "source": [
    "# evaluate model\n",
    "standard_model_eval = standard_model.evaluate(X_test, y_test)"
   ],
   "metadata": {
    "collapsed": false,
    "pycharm": {
     "name": "#%%\n"
    }
   }
  },
  {
   "cell_type": "code",
   "execution_count": 10,
   "outputs": [
    {
     "data": {
      "text/plain": "<Figure size 640x480 with 1 Axes>",
      "image/png": "[encoded data removed]"
     },
     "metadata": {},
     "output_type": "display_data"
    },
    {
     "data": {
      "text/plain": "<Figure size 640x480 with 1 Axes>",
      "image/png": "[encoded data removed]"
     },
     "metadata": {},
     "output_type": "display_data"
    }
   ],
   "source": [
    "# plot training metrics\n",
    "plot_metrics_from_model_history(standard_model_history, 'loss')\n",
    "plot_metrics_from_model_history(standard_model_history, 'accuracy')"
   ],
   "metadata": {
    "collapsed": false,
    "pycharm": {
     "name": "#%%\n"
    }
   }
  },
  {
   "cell_type": "code",
   "execution_count": 11,
   "outputs": [
    {
     "name": "stderr",
     "output_type": "stream",
     "text": [
      "WARNING:absl:Found untraced functions such as _jit_compiled_convolution_op, _jit_compiled_convolution_op, _jit_compiled_convolution_op, _jit_compiled_convolution_op, _jit_compiled_convolution_op while saving (showing 5 of 6). These functions will not be directly callable after loading.\n"
     ]
    },
    {
     "name": "stdout",
     "output_type": "stream",
     "text": [
      "INFO:tensorflow:Assets written to: models/unbalanced_standard_94-2023-01-19\\assets\n"
     ]
    },
    {
     "name": "stderr",
     "output_type": "stream",
     "text": [
      "INFO:tensorflow:Assets written to: models/unbalanced_standard_94-2023-01-19\\assets\n"
     ]
    },
    {
     "data": {
      "text/plain": "'models/unbalanced_standard_94-2023-01-19'"
     },
     "execution_count": 11,
     "metadata": {},
     "output_type": "execute_result"
    }
   ],
   "source": [
    "# save model\n",
    "save_model(standard_model, f\"unbalanced_standard_{int(standard_model_eval[1] * 100)}\")"
   ],
   "metadata": {
    "collapsed": false,
    "pycharm": {
     "name": "#%%\n"
    }
   }
  },
  {
   "cell_type": "code",
   "execution_count": 12,
   "outputs": [
    {
     "name": "stdout",
     "output_type": "stream",
     "text": [
      "8/8 [==============================] - 2s 272ms/step\n"
     ]
    }
   ],
   "source": [
    "# get predictions\n",
    "standard_predictions = get_labels(convert_predictions(standard_model.predict(X_test)), labels_enc)"
   ],
   "metadata": {
    "collapsed": false,
    "pycharm": {
     "name": "#%%\n"
    }
   }
  },
  {
   "cell_type": "code",
   "execution_count": 13,
   "outputs": [
    {
     "name": "stdout",
     "output_type": "stream",
     "text": [
      "              precision    recall  f1-score   support\n",
      "\n",
      "   airplanes       0.95      1.00      0.97       240\n",
      "         ant       0.00      0.00      0.00        13\n",
      "\n",
      "    accuracy                           0.95       253\n",
      "   macro avg       0.47      0.50      0.49       253\n",
      "weighted avg       0.90      0.95      0.92       253\n",
      "\n"
     ]
    }
   ],
   "source": [
    "# get statistics for \"part 1\" model\n",
    "print(classification_report(y_test_true_labels, standard_predictions, zero_division=0))"
   ],
   "metadata": {
    "collapsed": false,
    "pycharm": {
     "name": "#%%\n"
    }
   }
  },
  {
   "cell_type": "markdown",
   "source": [
    "##### Improved model"
   ],
   "metadata": {
    "collapsed": false,
    "pycharm": {
     "name": "#%% md\n"
    }
   }
  },
  {
   "cell_type": "code",
   "execution_count": 25,
   "outputs": [],
   "source": [
    "# define \"better\" model\n",
    "def get_better_model():\n",
    "    pass # TODO"
   ],
   "metadata": {
    "collapsed": false,
    "pycharm": {
     "name": "#%%\n"
    }
   }
  },
  {
   "cell_type": "code",
   "execution_count": null,
   "outputs": [],
   "source": [
    "# get \"better\" model\n",
    "better_model = get_better_model()"
   ],
   "metadata": {
    "collapsed": false,
    "pycharm": {
     "name": "#%%\n"
    }
   }
  },
  {
   "cell_type": "code",
   "execution_count": null,
   "outputs": [],
   "source": [
    "# train model\n",
    "better_model_history = train_model(better_model, X_train, y_train, X_test, y_test, 100, 32)"
   ],
   "metadata": {
    "collapsed": false,
    "pycharm": {
     "name": "#%%\n"
    }
   }
  },
  {
   "cell_type": "code",
   "execution_count": null,
   "outputs": [],
   "source": [
    "# evaluate model\n",
    "better_model_eval = better_model.evaluate(X_test, y_test)"
   ],
   "metadata": {
    "collapsed": false,
    "pycharm": {
     "name": "#%%\n"
    }
   }
  },
  {
   "cell_type": "code",
   "execution_count": null,
   "outputs": [],
   "source": [
    "# plot training metrics\n",
    "plot_metrics_from_model_history(better_model_history, 'loss')\n",
    "plot_metrics_from_model_history(better_model_history, 'accuracy')"
   ],
   "metadata": {
    "collapsed": false,
    "pycharm": {
     "name": "#%%\n"
    }
   }
  },
  {
   "cell_type": "code",
   "execution_count": null,
   "outputs": [],
   "source": [
    "# save model\n",
    "save_model(better_model, f\"unbalanced_better_{int(better_model_eval[1] * 100)}\")"
   ],
   "metadata": {
    "collapsed": false,
    "pycharm": {
     "name": "#%%\n"
    }
   }
  },
  {
   "cell_type": "code",
   "execution_count": 26,
   "outputs": [],
   "source": [
    "# get predictions\n",
    "better_predictions = get_labels(convert_predictions(better_model.predict(X_test)), labels_enc)"
   ],
   "metadata": {
    "collapsed": false,
    "pycharm": {
     "name": "#%%\n"
    }
   }
  },
  {
   "cell_type": "code",
   "execution_count": null,
   "outputs": [],
   "source": [
    "# get statistics for \"better\" model\n",
    "print(classification_report(y_test_true_labels, better_predictions, zero_division=0))"
   ],
   "metadata": {
    "collapsed": false,
    "pycharm": {
     "name": "#%%\n"
    }
   }
  },
  {
   "cell_type": "markdown",
   "source": [
    "##### Results discussion"
   ],
   "metadata": {
    "collapsed": false,
    "pycharm": {
     "name": "#%% md\n"
    }
   }
  }
 ],
 "metadata": {
  "kernelspec": {
   "display_name": "Python 3",
   "language": "python",
   "name": "python3"
  },
  "language_info": {
   "codemirror_mode": {
    "name": "ipython",
    "version": 3
   },
   "file_extension": ".py",
   "mimetype": "text/x-python",
   "name": "python",
   "nbconvert_exporter": "python",
   "pygments_lexer": "ipython3",
   "version": "3.8.0"
  }
 },
 "nbformat": 4,
 "nbformat_minor": 4
}